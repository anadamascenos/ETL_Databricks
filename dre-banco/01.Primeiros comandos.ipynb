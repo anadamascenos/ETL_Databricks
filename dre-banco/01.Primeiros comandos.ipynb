{
 "cells": [
  {
   "cell_type": "code",
   "execution_count": 0,
   "metadata": {
    "application/vnd.databricks.v1+cell": {
     "cellMetadata": {
      "byteLimit": 2048000,
      "rowLimit": 10000
     },
     "inputWidgets": {},
     "nuid": "da35260b-0c61-41bd-ae21-568567584b80",
     "showTitle": false,
     "tableResultSettingsMap": {},
     "title": ""
    }
   },
   "outputs": [
    {
     "output_type": "stream",
     "name": "stdout",
     "output_type": "stream",
     "text": [
      "Out[3]: [FileInfo(path='dbfs:/FileStore/', name='FileStore/', size=0, modificationTime=0),\n FileInfo(path='dbfs:/databricks-datasets/', name='databricks-datasets/', size=0, modificationTime=0),\n FileInfo(path='dbfs:/databricks-results/', name='databricks-results/', size=0, modificationTime=0),\n FileInfo(path='dbfs:/home/', name='home/', size=0, modificationTime=0),\n FileInfo(path='dbfs:/mnt/', name='mnt/', size=0, modificationTime=0),\n FileInfo(path='dbfs:/user/', name='user/', size=0, modificationTime=0)]"
     ]
    }
   ],
   "source": [
    "dbutils.fs.ls('/')"
   ]
  },
  {
   "cell_type": "code",
   "execution_count": 0,
   "metadata": {
    "application/vnd.databricks.v1+cell": {
     "cellMetadata": {
      "byteLimit": 2048000,
      "rowLimit": 10000
     },
     "inputWidgets": {},
     "nuid": "d1c51bdd-31a0-4acd-8fe9-30878a03e52f",
     "showTitle": false,
     "tableResultSettingsMap": {},
     "title": ""
    }
   },
   "outputs": [
    {
     "output_type": "display_data",
     "data": {
      "text/html": [
       "<style scoped>\n",
       "  .table-result-container {\n",
       "    max-height: 300px;\n",
       "    overflow: auto;\n",
       "  }\n",
       "  table, th, td {\n",
       "    border: 1px solid black;\n",
       "    border-collapse: collapse;\n",
       "  }\n",
       "  th, td {\n",
       "    padding: 5px;\n",
       "  }\n",
       "  th {\n",
       "    text-align: left;\n",
       "  }\n",
       "</style><div class='table-result-container'><table class='table-result'><thead style='background-color: white'><tr><th>path</th><th>name</th><th>size</th><th>modificationTime</th></tr></thead><tbody><tr><td>dbfs:/FileStore/tables/Bikes/</td><td>Bikes/</td><td>0</td><td>0</td></tr><tr><td>dbfs:/FileStore/tables/Clientes.csv</td><td>Clientes.csv</td><td>12356</td><td>1733015498000</td></tr><tr><td>dbfs:/FileStore/tables/DRE.csv</td><td>DRE.csv</td><td>699</td><td>1733194109000</td></tr><tr><td>dbfs:/FileStore/tables/DRE.xlsx</td><td>DRE.xlsx</td><td>631425</td><td>1733194117000</td></tr><tr><td>dbfs:/FileStore/tables/DiferentesSaidas/</td><td>DiferentesSaidas/</td><td>0</td><td>0</td></tr><tr><td>dbfs:/FileStore/tables/V_OCORRENCIA_AMPLA-zip/</td><td>V_OCORRENCIA_AMPLA-zip/</td><td>0</td><td>0</td></tr><tr><td>dbfs:/FileStore/tables/V_OCORRENCIA_AMPLA.csv</td><td>V_OCORRENCIA_AMPLA.csv</td><td>9869805</td><td>1733019769000</td></tr><tr><td>dbfs:/FileStore/tables/V_OCORRENCIA_AMPLA.json</td><td>V_OCORRENCIA_AMPLA.json</td><td>20436383</td><td>1733019781000</td></tr><tr><td>dbfs:/FileStore/tables/brands.csv</td><td>brands.csv</td><td>120</td><td>1733017147000</td></tr><tr><td>dbfs:/FileStore/tables/categories.csv</td><td>categories.csv</td><td>162</td><td>1733017147000</td></tr><tr><td>dbfs:/FileStore/tables/customers.csv</td><td>customers.csv</td><td>127671</td><td>1733017147000</td></tr><tr><td>dbfs:/FileStore/tables/json_file/</td><td>json_file/</td><td>0</td><td>0</td></tr><tr><td>dbfs:/FileStore/tables/json_zip/</td><td>json_zip/</td><td>0</td><td>0</td></tr><tr><td>dbfs:/FileStore/tables/order_items.csv</td><td>order_items.csv</td><td>112937</td><td>1733017148000</td></tr><tr><td>dbfs:/FileStore/tables/orders.csv</td><td>orders.csv</td><td>77286</td><td>1733017148000</td></tr><tr><td>dbfs:/FileStore/tables/products.csv</td><td>products.csv</td><td>17390</td><td>1733017148000</td></tr><tr><td>dbfs:/FileStore/tables/schema.png</td><td>schema.png</td><td>12013</td><td>1733017148000</td></tr><tr><td>dbfs:/FileStore/tables/staffs.csv</td><td>staffs.csv</td><td>726</td><td>1733017148000</td></tr><tr><td>dbfs:/FileStore/tables/stocks.csv</td><td>stocks.csv</td><td>8773</td><td>1733017149000</td></tr><tr><td>dbfs:/FileStore/tables/stores.csv</td><td>stores.csv</td><td>330</td><td>1733017147000</td></tr></tbody></table></div>"
      ]
     },
     "metadata": {
      "application/vnd.databricks.v1+output": {
       "addedWidgets": {},
       "aggData": [],
       "aggError": "",
       "aggOverflow": false,
       "aggSchema": [],
       "aggSeriesLimitReached": false,
       "aggType": "",
       "arguments": {},
       "columnCustomDisplayInfos": {},
       "data": [
        [
         "dbfs:/FileStore/tables/Bikes/",
         "Bikes/",
         0,
         0
        ],
        [
         "dbfs:/FileStore/tables/Clientes.csv",
         "Clientes.csv",
         12356,
         1733015498000
        ],
        [
         "dbfs:/FileStore/tables/DRE.csv",
         "DRE.csv",
         699,
         1733194109000
        ],
        [
         "dbfs:/FileStore/tables/DRE.xlsx",
         "DRE.xlsx",
         631425,
         1733194117000
        ],
        [
         "dbfs:/FileStore/tables/DiferentesSaidas/",
         "DiferentesSaidas/",
         0,
         0
        ],
        [
         "dbfs:/FileStore/tables/V_OCORRENCIA_AMPLA-zip/",
         "V_OCORRENCIA_AMPLA-zip/",
         0,
         0
        ],
        [
         "dbfs:/FileStore/tables/V_OCORRENCIA_AMPLA.csv",
         "V_OCORRENCIA_AMPLA.csv",
         9869805,
         1733019769000
        ],
        [
         "dbfs:/FileStore/tables/V_OCORRENCIA_AMPLA.json",
         "V_OCORRENCIA_AMPLA.json",
         20436383,
         1733019781000
        ],
        [
         "dbfs:/FileStore/tables/brands.csv",
         "brands.csv",
         120,
         1733017147000
        ],
        [
         "dbfs:/FileStore/tables/categories.csv",
         "categories.csv",
         162,
         1733017147000
        ],
        [
         "dbfs:/FileStore/tables/customers.csv",
         "customers.csv",
         127671,
         1733017147000
        ],
        [
         "dbfs:/FileStore/tables/json_file/",
         "json_file/",
         0,
         0
        ],
        [
         "dbfs:/FileStore/tables/json_zip/",
         "json_zip/",
         0,
         0
        ],
        [
         "dbfs:/FileStore/tables/order_items.csv",
         "order_items.csv",
         112937,
         1733017148000
        ],
        [
         "dbfs:/FileStore/tables/orders.csv",
         "orders.csv",
         77286,
         1733017148000
        ],
        [
         "dbfs:/FileStore/tables/products.csv",
         "products.csv",
         17390,
         1733017148000
        ],
        [
         "dbfs:/FileStore/tables/schema.png",
         "schema.png",
         12013,
         1733017148000
        ],
        [
         "dbfs:/FileStore/tables/staffs.csv",
         "staffs.csv",
         726,
         1733017148000
        ],
        [
         "dbfs:/FileStore/tables/stocks.csv",
         "stocks.csv",
         8773,
         1733017149000
        ],
        [
         "dbfs:/FileStore/tables/stores.csv",
         "stores.csv",
         330,
         1733017147000
        ]
       ],
       "datasetInfos": [],
       "dbfsResultPath": null,
       "isJsonSchema": true,
       "metadata": {},
       "overflow": false,
       "plotOptions": {
        "customPlotOptions": {},
        "displayType": "table",
        "pivotAggregation": null,
        "pivotColumns": null,
        "xColumns": null,
        "yColumns": null
       },
       "removedWidgets": [],
       "schema": [
        {
         "metadata": "{}",
         "name": "path",
         "type": "\"string\""
        },
        {
         "metadata": "{}",
         "name": "name",
         "type": "\"string\""
        },
        {
         "metadata": "{}",
         "name": "size",
         "type": "\"long\""
        },
        {
         "metadata": "{}",
         "name": "modificationTime",
         "type": "\"long\""
        }
       ],
       "type": "table"
      }
     },
     "output_type": "display_data"
    }
   ],
   "source": [
    "display(dbutils.fs.ls('/FileStore/tables'))"
   ]
  },
  {
   "cell_type": "code",
   "execution_count": 0,
   "metadata": {
    "application/vnd.databricks.v1+cell": {
     "cellMetadata": {
      "byteLimit": 2048000,
      "rowLimit": 10000
     },
     "inputWidgets": {},
     "nuid": "9611a0e7-3e8c-491d-8a9a-182d857a28a4",
     "showTitle": false,
     "tableResultSettingsMap": {},
     "title": ""
    }
   },
   "outputs": [
    {
     "output_type": "stream",
     "name": "stdout",
     "output_type": "stream",
     "text": [
      "Out[5]: '\\ufeffid,created_at,first_name,last_name,email,cell_phone,country,state,street,number,additionals\\r\\n0,2017-11-01 14:45:41,Marta,Jesus,,9 9102-7834,Brasil,Acre,,,Conjunto 16\\r\\n1,2017-10-16 00:50:39,Luana,Almeida,,9 7328-8718,Brasil,Rio Grande do Sul,Avenida 56 do Estado Rio Grande do Sul,989.0,Conjunto 17\\r\\n2,2018-06-16 17:51:29,Frida,Mendes,frida@meu_email.com,9 5906-7552,Brasil,São Paulo,Avenida 59 do Estado São Paulo,534.0,\\r\\n3,2018-01-17 03:02:58,Daniela,Avelino,daniela@exemplo.com,9 4642-9486,Brasil,Mato Grosso,,,\\r\\n4,2018-08-06 07:24:16,Romário,Teixeira,,9 3093-6522,Brasil,Bahia,Praça 56 do Estado Bahia,191.0,Apto 12\\r\\n5,2018-01-05 17:20:49,Marcelo,Barroso,,9 2830-2088,Brasil,Rio Grande do Sul,Rua 28 do Estado Rio Grande do Sul,805.0,Conjunto 13\\r\\n6,2018-06-18 11:17:42,Cristiano,Elísio,cristiano@exemplo.com,9 3532-8404,Brasil,Goiás,Rua 78 do Estado Goiás,877.0,Apto 14\\r\\n7,2018-02-08 12:36:09,Everton,Barbosa,everton@meu_email.com,9 2553-4087,Brasil,Distrito Federal,Avenida 86 do Estado Distrito Federal,864.0,Apto 14\\r\\n8,2017-12-16 20:47:03,Gabriela,Alves,gabriela@exemplo.com,9 1353-8433,Brasil,Santa Catarina,,,\\r\\n9,2018-11-11 11:48:41,Luan,Dias,luan@exemplo.com,9 2417-3678,Brasil,Distrito Federal,Avenida 54 do Estado Distrito Federal,889.0,Conjunto 14\\r\\n10,2017-12-16 15:41:00,Mariana,Alves,mariana@meu_email.com,9 1846-6377,Brasil,Santa Catarina,,,\\r\\n11,2018-05-16 03:39:52,James,Albuquerque,,9 2430-5905,Brasil,Sergipe,Rua 30 do Estado Sergipe,229.0,\\r\\n12,2018-03-28 00:24:00,Carol,Barboza,carol@exemplo.com,9 8487-3501,Brasil,Mato Grosso,Rua 31 do Estado Mato Grosso,1.0,Conjunto 23\\r\\n13,2018-08-27 21:15:17,Carolina,Monteiro,carolina@teste.com,9 1226-4267,Brasil,Rio Grande do Sul,Rua 4 do Estado Rio Grande do Sul,444.0,Apto 21\\r\\n14,2017-11-12 03:02:41,Francisco,Nascimento,francisco@exemplo.com,9 7264-9020,Brasil,Distrito Federal,Rua 75 do Estado Distrito Federal,47.0,\\r\\n15,2018-11-15 18:00:53,Stephanie,Barbosa,stephanie@usuario.com,9 1446-3560,Brasil,Mato Grosso,,,Conjunto 4\\r\\n16,2017-12-12 21:29:54,Laura,Santos,laura@exemplo.com,9 7802-6152,Brasil,Maranhão,Rua 57 do Estado Maranhão,213.0,\\r\\n17,2017-10-19 20:18:14,João,Magalhães,joão@exemplo.com,9 5995-1272,Brasil,Pernambuco,Rua 20 do Estado Pernambuco,781.0,Apto 17\\r\\n18,2018-06-28 04:53:52,Jair,Magalhães,jair@exemplo.com,9 8368-1315,Brasil,Alagoas,Avenida 74 do Estado Alagoas,118.0,Conjunto 8\\r\\n19,2018-10-20 19:31:52,Caíque,Monteiro,caíque@exemplo.com,9 9793-9986,Brasil,Piauí,,,Conjunto 13\\r\\n20,2017-12-22 10:51:28,Adalberto,Silva,adalberto@usuario.com,9 1338-1447,Brasil,São Paulo,Rua 57 do Estado São Paulo,851.0,Conjunto 20\\r\\n21,2018-02-21 15:35:55,Diego,Freire,diego@teste.com,9 6686-4094,Brasil,Bahia,Praça 4 do Estado Bahia,906.0,Apto 20\\r\\n22,2018-04-18 22:43:29,Heitor,Pereira,,9 4839-8118,Brasil,Maranhão,Avenida 84 do Estado Maranhão,948.0,\\r\\n23,2017-10-26 00:35:22,Maria,Pires,,9 8229-1067,Brasil,Amazonas,Avenida 80 do Estado Amazonas,581.0,\\r\\n24,2018-07-25 09:34:12,Jair,Barroso,jair@teste.com,9 6679-6120,Brasil,Ceará,Rua 86 do Estado Ceará,770.0,Apto 21\\r\\n25,2018-08-07 12:22:40,Alice,Veloso,alice@exemplo.com,9 9869-3706,Brasil,Minas Gerais,Praça 73 do Estado Minas Gerais,571.0,\\r\\n26,2018-12-12 11:56:14,Eloá,da Silva,eloá@usuario.com,9 3982-5948,Brasil,Espírito Santo,Avenida 98 do Estado Espírito Santo,706.0,\\r\\n27,2018-11-08 11:12:47,Luan,Lima,luan@teste.com,9 2529-8197,Brasil,Acre,Praça 86 do Estado Acre,303.0,Apto 27\\r\\n28,2017-11-26 05:17:39,Beatriz,Araújo,beatriz@usuario.com,9 4543-3853,Brasil,Minas Gerais,Praça 7 do Estado Minas Gerais,536.0,Conjunto 5\\r\\n29,2018-06-03 17:08:52,Geisa,Santos,geisa@meu_email.com,9 4653-9739,Brasil,Rio Grande do Norte,Avenida 77 do Estado Rio Grande do Norte,486.0,Conjunto 13\\r\\n30,2018-06-08 07:49:50,Gabriel,Teixeira,gabriel@exemplo.com,9 7419-5325,Brasil,Rio Grande do Sul,Avenida 7 do Estado Rio Grande do Sul,94.0,\\r\\n31,2018-07-02 22:04:08,Geisa,Freitas,geisa@exemplo.com,9 6772-5310,Brasil,Mato Grosso do Sul,Rua 18 do Estado Mato Grosso do Sul,128.0,\\r\\n32,2018-07-22 11:59:27,Ana,Campos,ana@teste.com,9 1932-9841,Brasil,Bahia,Avenida 52 do Estado Bahia,402.0,\\r\\n33,2017-12-28 12:51:34,João,da Silva,joão@usuario.com,9 2813-8103,Brasil,Paraná,Avenida 27 do Estado Paraná,240.0,Apto 6\\r\\n34,2018-10-05 01:14:05,José,Campos,josé@teste.com,9 7552-4340,Brasil,Goiás,Praça 25 do Estado Goiás,884.0,Apto 7\\r\\n35,2018-04-19 10:10:22,Adalberto,Dias,adalberto@usuario.com,9 8395-7004,Brasil,Espírito Santo,Rua 37 do Estado Espírito Santo,383.0,Apto 13\\r\\n36,2018-01-26 03:29:13,Mariana,Góes,mariana@meu_email.com,9 7324-4293,Brasil,,,,Apto 25\\r\\n37,2018-03-02 22:27:03,Daniela,Monteiro,daniela@meu_email.com,9 4704-5844,Brasil,Goiás,Rua 43 do Estado Goiás,116.0,Apto 28\\r\\n38,2018-09-01 09:33:57,Marcelo,Mendes,,9 6773-1560,Brasil,Espírito Santo,Avenida 64 do Estado Espírito Santo,213.0,\\r\\n39,2017-11-15 07:17:25,Caio,Batista,caio@usuario.com,9 4761-6542,Brasil,Maranhão,Avenida 87 do Estado Maranhão,656.0,Apto 25\\r\\n40,2018-08-17 13:21:08,Gabriela,Nascimento,gabriela@teste.com,9 5382-5772,Brasil,Amapá,Avenida 85 do Estado Amapá,476.0,\\r\\n41,2018-11-30 17:44:09,Maria,Morais,maria@usuario.com,9 1519-4181,Brasil,Pernambuco,Avenida 69 do Estado Pernambuco,633.0,\\r\\n42,2018-04-09 19:12:23,João,Almeida,joão@usuario.com,9 4650-1753,Brasil,Goiás,Praça 3 do Estado Goiás,986.0,Apto 9\\r\\n43,2018-01-07 07:54:22,Daniela,Lima,,9 1763-2584,Brasil,Rio de Janeiro,,,Apto 20\\r\\n44,2018-04-08 07:18:45,Júlia,Costa,júlia@usuario.com,9 5446-9508,Brasil,Rio Grande do Norte,Avenida 46 do Estado Rio Grande do Norte,277.0,Conjunto 14\\r\\n45,2018-05-10 23:09:25,Gerson,Anjos,gerson@meu_email.com,9 1590-8972,Brasil,Mato Grosso do Sul,Avenida 35 do Estado Mato Grosso do Sul,229.0,Apto 29\\r\\n46,2018-07-19 08:33:32,Rafael,Freire,rafael@exemplo.com,9 8703-1006,Brasil,Maranhão,Praça 97 do Estado Maranhão,138.0,\\r\\n47,2018-09-01 23:00:40,Júlia,Castro,júlia@exemplo.com,9 7096-1780,Brasil,Rio de Janeiro,Rua 39 do Estado Rio de Janeiro,983.0,Conjunto 7\\r\\n48,2018-05-29 04:22:54,Clarissa,Albuquerque,clarissa@exemplo.com,9 7403-4273,Brasil,Ceará,,,Apto 12\\r\\n49,2018-11-01 02:13:51,Júlia,Sousa,júlia@exemplo.com,9 2094-8467,Brasil,Rondônia,Rua 12 do Estado Rondônia,260.0,Apto 27\\r\\n50,2018-08-24 07:52:23,Beatriz,Monteiro,beatriz@teste.com,9 3570-4464,Brasil,Minas Gerais,Avenida 17 do Estado Minas Gerais,223.0,Conjunto 22\\r\\n51,2017-12-26 15:38:15,Caio,Mendes,caio@teste.com,9 6437-5008,Brasil,Pernambuco,Rua 34 do Estado Pernambuco,931.0,\\r\\n52,2017-12-04 17:42:34,Bruno,Anjos,bruno@teste.com,9 3004-3740,Brasil,Goiás,Rua 53 do Estado Goiás,825.0,\\r\\n53,2018-03-25 14:26:49,Daniela,Mendes,daniela@teste.com,9 3797-3399,Brasil,Pernambuco,Rua 71 do Estado Pernambuco,760.0,Apto 14\\r\\n54,2018-01-25 02:11:25,Diego,Teixeira,diego@exemplo.com,9 5247-1737,Brasil,Pará,Rua 8 do Estado Pará,722.0,Conjunto 16\\r\\n55,2018-07-10 18:40:07,Gabriela,Pires,gabriela@meu_email.com,9 1214-1539,Brasil,Rio de Janeiro,Rua 32 do Estado Rio de Janeiro,838.0,Apto 29\\r\\n56,2017-12-01 22:40:40,Cristiano,Fagundes,cristiano@usuario.com,9 7680-6400,Brasil,Piauí,Avenida 20 do Estado Piauí,236.0,Apto 30\\r\\n57,2018-08-23 03:31:05,Stephanie,Barboza,stephanie@meu_email.com,9 1168-6722,Brasil,Maranhão,Avenida 25 do Estado Maranhão,795.0,\\r\\n58,2018-09-13 03:13:02,Rafael,Rodrigues,rafael@meu_email.com,9 6550-3557,Brasil,Bahia,Praça 94 do Estado Bahia,647.0,Apto 25\\r\\n59,2017-12-03 16:24:32,Stephanie,Freire,stephanie@usuario.com,9 3256-1853,Brasil,São Paulo,Rua 52 do Estado São Paulo,34.0,Apto 24\\r\\n60,2018-06-26 18:47:12,Carol,Bueno,carol@usuario.com,9 9814-4736,Brasil,Santa Catarina,Rua 10 do Estado Santa Catarina,47.0,Conjunto 12\\r\\n61,2018-04-30 18:36:56,Francisco,Abreu,francisco@exemplo.com,9 6754-1775,Brasil,Amapá,Rua 72 do Estado Amapá,50.0,Apto 12\\r\\n62,2018-01-21 13:56:16,Carol,Anjos,carol@usuario.com,9 2123-9306,Brasil,Pernambuco,Praça 12 do Estado Pernambuco,928.0,Conjunto 26\\r\\n63,2018-05-05 17:52:26,Caíque,Batista,caíque@teste.com,9 8818-5886,Brasil,Ceará,Rua 76 do Estado Ceará,239.0,Apto 19\\r\\n64,2018-10-30 15:47:32,Luan,Ramos,luan@exemplo.com,9 6843-3876,Brasil,Pernambuco,Rua 63 do Estado Pernambuco,345.0,Conjunto 10\\r\\n65,2018-02-06 05:56:36,Willian,Freitas,,9 3043-7382,Brasil,Rio de Janeiro,Rua 91 do Estado Rio de Janeiro,96.0,Apto 7\\r\\n66,2018-10-18 04:31:59,Stephanie,Abreu,stephanie@meu_email.com,9 6466-2389,Brasil,Mato Grosso,Rua 19 do Estado Mato Grosso,53.0,Conjunto 13\\r\\n67,2018-08-31 18:22:52,Laura,Pires,laura@meu_email.com,9 8144-6047,Brasil,Mato Grosso do Sul,Praça 23 do Estado Mato Grosso do Sul,47.0,Apto 7\\r\\n68,2018-11-14 11:04:35,José,Pires,josé@usuario.com,9 8189-2149,Brasil,Ceará,Avenida 99 do Estado Ceará,231.0,\\r\\n69,2018-02-20 19:16:26,Gustavo,Cardoso,gustavo@teste.com,9 7594-9211,Brasil,Amazonas,Praça 52 do Estado Amazonas,698.0,\\r\\n70,2017-10-22 12:49:39,Diego,Barboza,,9 4849-7409,Brasil,Mato Grosso do Sul,Avenida 3 do Estado Mato Grosso do Sul,250.0,\\r\\n71,2017-12-12 16:16:52,Gerson,Barroso,gerson@exemplo.com,9 5719-4227,Brasil,Pernambuco,,,Apto 2\\r\\n72,2018-01-29 03:19:24,Neymar,Elísio,neymar@teste.com,9 5373-1785,Brasil,Rio Grande do Sul,Rua 49 do Estado Rio Grande do Sul,929.0,\\r\\n73,2018-02-03 07:37:38,Cristiano,Almeida,cristiano@usuario.com,9 2630-9907,Brasil,,,,Conjunto 24\\r\\n74,2018-04-22 05:00:28,Júlia,Almeida,júlia@meu_email.com,9 9208-5213,Brasil,Maranhão,Praça 25 do Estado Maranhão,953.0,Conjunto 4\\r\\n75,2018-06-21 14:28:03,Marta,Abreu,,9 9024-3467,Brasil,Roraima,Avenida 67 do Estado Roraima,410.0,Conjunto 23\\r\\n76,2018-04-16 04:53:31,Romário,Rosa,romário@meu_email.com,9 8710-8305,Brasil,Rio Grande do Sul,Praça 75 do Estado Rio Grande do Sul,110.0,Conjunto 10\\r\\n77,2018-11-30 10:29:55,Ana,Monteiro,ana@teste.com,9 3871-4132,Brasil,Bahia,Praça 86 do Estado Bahia,604.0,Apto 30\\r\\n78,2017-11-02 22:13:22,Laura,Queiroz,laura@exemplo.com,9 6338-8617,Brasil,São Paulo,Praça 19 do Estado São Paulo,878.0,Conjunto 3\\r\\n79,2017-12-13 08:41:05,Hélen,Souza,hélen@teste.com,9 9974-1066,Brasil,Paraná,Avenida 20 do Estado Paraná,661.0,Conjunto 13\\r\\n80,2018-10-10 00:06:32,Daniela,Góes,daniela@usuario.com,9 5394-6677,Brasil,Alagoas,Praça 22 do Estado Alagoas,235.0,\\r\\n81,2018-01-13 10:35:01,Alice,Ferreira,alice@teste.com,9 9005-2493,Brasil,Minas Gerais,Praça 53 do Estado Minas Gerais,83.0,\\r\\n82,2018-11-04 18:02:42,Heitor,Rocha,heitor@teste.com,9 3236-7429,Brasil,Espírito Santo,Praça 82 do Estado Espírito Santo,14.0,\\r\\n83,2018-01-05 00:15:03,Frida,Freire,,9 4760-1383,Brasil,Alagoas,Rua 25 do Estado Alagoas,679.0,Conjunto 9\\r\\n84,2018-11-01 15:39:40,Carol,Bueno,carol@meu_email.com,9 3760-2211,Brasil,,,,Conjunto 26\\r\\n85,2017-11-24 12:44:36,Eduardo,Teixeira,,9 2537-7930,Brasil,Rio Grande do Norte,,,\\r\\n86,2018-03-12 09:30:24,Adalberto,Oliveira,adalberto@teste.com,9 3081-3441,Brasil,Roraima,Rua 40 do Estado Roraima,401.0,Conjunto 17\\r\\n87,2018-08-16 20:25:23,Beatriz,Abreu,beatriz@usuario.com,9 2254-6798,Brasil,Acre,Rua 95 do Estado Acre,482.0,Conjunto 16\\r\\n88,2017-10-12 15:17:05,Rafael,Batista,rafael@usuario.com,9 8656-5668,Brasil,Ceará,Rua 78 do Estado Ceará,787.0,Apto 3\\r\\n89,2017-12-07 19:24:54,Daniela,Pires,daniela@usuario.com,9 6666-2265,Brasil,Bahia,Rua 31 do Estado Bahia,441.0,\\r\\n90,2017-12-16 22:14:58,Stephanie,Rosa,,9 3040-4414,Brasil,Rio Grande do Norte,,,\\r\\n91,2018-09-12 22:12:05,Daniel,Costa,daniel@teste.com,9 4761-6557,Brasil,Rio Grande do Norte,Praça 25 do Estado Rio Grande do Norte,281.0,Apto 8\\r\\n92,2017-10-16 16:29:15,Beatriz,Bueno,beatriz@teste.com,9 4435-2960,Brasil,Acre,Rua 71 do Estado Acre,978.0,Apto 24\\r\\n93,2018-11-02 08:43:47,Ronaldo,Galo,ronaldo@meu_email.com,9 8821-9577,Brasil,Pernambuco,Avenida 8 do Estado Pernambuco,758.0,Apto 2\\r\\n94,2018-10-29 11:39:58,Cristiano,Pereira,cristiano@meu_email.com,9 4404-8717,Brasil,Piauí,Praça 100 do Estado Piauí,809.0,\\r\\n95,2018-10-01 11:35:59,Mariana,Rosa,mariana@usuario.com,9 3139-2145,Brasil,,,,\\r\\n96,2018-01-23 19:14:21,Paulo,Câmara,paulo@usuario.com,9 4785-1135,Brasil,Sergipe,Praça 73 do Estado Sergipe,219.0,Apto 6\\r\\n97,2018-07-04 18:45:41,Marta,Góes,marta@teste.com,9 4102-4352,Brasil,Paraná,Rua 61 do Estado Paraná,402.0,Apto 24\\r\\n98,2018-01-24 16:21:06,Cibele,Costa,cibele@meu_email.com,9 4211-6968,Brasil,Mato Grosso,Praça 75 do Estado Mato Grosso,24.0,\\r\\n99,2018-07-24 08:26:27,Jéssica,Jesus,jéssica@usuario.com,9 6100-1466,Brasil,Paraná,Avenida 19 do Estado Paraná,738.0,Conjunto 22\\r\\n'"
     ]
    }
   ],
   "source": [
    "dbutils.fs.head('/FileStore/tables/Clientes.csv')"
   ]
  },
  {
   "cell_type": "code",
   "execution_count": 0,
   "metadata": {
    "application/vnd.databricks.v1+cell": {
     "cellMetadata": {
      "byteLimit": 2048000,
      "rowLimit": 10000
     },
     "inputWidgets": {},
     "nuid": "541510c2-05e9-43f2-a801-d56d91fb08d8",
     "showTitle": false,
     "tableResultSettingsMap": {},
     "title": ""
    }
   },
   "outputs": [
    {
     "output_type": "display_data",
     "data": {
      "text/html": [
       "<style scoped>\n",
       "  .table-result-container {\n",
       "    max-height: 300px;\n",
       "    overflow: auto;\n",
       "  }\n",
       "  table, th, td {\n",
       "    border: 1px solid black;\n",
       "    border-collapse: collapse;\n",
       "  }\n",
       "  th, td {\n",
       "    padding: 5px;\n",
       "  }\n",
       "  th {\n",
       "    text-align: left;\n",
       "  }\n",
       "</style><div class='table-result-container'><table class='table-result'><thead style='background-color: white'><tr><th>path</th><th>name</th><th>size</th><th>modificationTime</th></tr></thead><tbody><tr><td>dbfs:/FileStore/landing_zone/</td><td>landing_zone/</td><td>0</td><td>0</td></tr><tr><td>dbfs:/FileStore/tables/</td><td>tables/</td><td>0</td><td>0</td></tr></tbody></table></div>"
      ]
     },
     "metadata": {
      "application/vnd.databricks.v1+output": {
       "addedWidgets": {},
       "aggData": [],
       "aggError": "",
       "aggOverflow": false,
       "aggSchema": [],
       "aggSeriesLimitReached": false,
       "aggType": "",
       "arguments": {},
       "columnCustomDisplayInfos": {},
       "data": [
        [
         "dbfs:/FileStore/landing_zone/",
         "landing_zone/",
         0,
         0
        ],
        [
         "dbfs:/FileStore/tables/",
         "tables/",
         0,
         0
        ]
       ],
       "datasetInfos": [],
       "dbfsResultPath": null,
       "isJsonSchema": true,
       "metadata": {},
       "overflow": false,
       "plotOptions": {
        "customPlotOptions": {},
        "displayType": "table",
        "pivotAggregation": null,
        "pivotColumns": null,
        "xColumns": null,
        "yColumns": null
       },
       "removedWidgets": [],
       "schema": [
        {
         "metadata": "{}",
         "name": "path",
         "type": "\"string\""
        },
        {
         "metadata": "{}",
         "name": "name",
         "type": "\"string\""
        },
        {
         "metadata": "{}",
         "name": "size",
         "type": "\"long\""
        },
        {
         "metadata": "{}",
         "name": "modificationTime",
         "type": "\"long\""
        }
       ],
       "type": "table"
      }
     },
     "output_type": "display_data"
    }
   ],
   "source": [
    "# inserir varios dados em pasta errada como ajustar \n",
    "display(dbutils.fs.ls('/FileStore/'))"
   ]
  },
  {
   "cell_type": "code",
   "execution_count": 0,
   "metadata": {
    "application/vnd.databricks.v1+cell": {
     "cellMetadata": {
      "byteLimit": 2048000,
      "rowLimit": 10000
     },
     "inputWidgets": {},
     "nuid": "660a651c-a03b-4b13-be2f-c63596fa77c4",
     "showTitle": false,
     "tableResultSettingsMap": {},
     "title": ""
    }
   },
   "outputs": [],
   "source": [
    "\n",
    "excluir = [\n",
    "    \"/FileStore/DRE.xlsx\",\n",
    "    \"/FileStore/order_items.csv\",\n",
    "    \"/FileStore/orders.csv\",\n",
    "    \"/FileStore/products.csv\",\n",
    "]\n",
    "\n",
    "for apagar_arquivos in excluir:\n",
    "    dbutils.fs.rm(apagar_arquivos)"
   ]
  },
  {
   "cell_type": "code",
   "execution_count": 0,
   "metadata": {
    "application/vnd.databricks.v1+cell": {
     "cellMetadata": {
      "byteLimit": 2048000,
      "rowLimit": 10000
     },
     "inputWidgets": {},
     "nuid": "8dc2f8a1-d703-46c5-9b9d-2696bdaab7a3",
     "showTitle": false,
     "tableResultSettingsMap": {},
     "title": ""
    }
   },
   "outputs": [
    {
     "output_type": "display_data",
     "data": {
      "text/html": [
       "<style scoped>\n",
       "  .table-result-container {\n",
       "    max-height: 300px;\n",
       "    overflow: auto;\n",
       "  }\n",
       "  table, th, td {\n",
       "    border: 1px solid black;\n",
       "    border-collapse: collapse;\n",
       "  }\n",
       "  th, td {\n",
       "    padding: 5px;\n",
       "  }\n",
       "  th {\n",
       "    text-align: left;\n",
       "  }\n",
       "</style><div class='table-result-container'><table class='table-result'><thead style='background-color: white'><tr><th>path</th><th>name</th><th>size</th><th>modificationTime</th></tr></thead><tbody><tr><td>dbfs:/FileStore/tables/Bikes/</td><td>Bikes/</td><td>0</td><td>0</td></tr><tr><td>dbfs:/FileStore/tables/Clientes.csv</td><td>Clientes.csv</td><td>12356</td><td>1733015498000</td></tr><tr><td>dbfs:/FileStore/tables/DRE.csv</td><td>DRE.csv</td><td>699</td><td>1733194109000</td></tr><tr><td>dbfs:/FileStore/tables/DRE.xlsx</td><td>DRE.xlsx</td><td>631425</td><td>1733194117000</td></tr><tr><td>dbfs:/FileStore/tables/DiferentesSaidas/</td><td>DiferentesSaidas/</td><td>0</td><td>0</td></tr><tr><td>dbfs:/FileStore/tables/V_OCORRENCIA_AMPLA-zip/</td><td>V_OCORRENCIA_AMPLA-zip/</td><td>0</td><td>0</td></tr><tr><td>dbfs:/FileStore/tables/V_OCORRENCIA_AMPLA.csv</td><td>V_OCORRENCIA_AMPLA.csv</td><td>9869805</td><td>1733019769000</td></tr><tr><td>dbfs:/FileStore/tables/V_OCORRENCIA_AMPLA.json</td><td>V_OCORRENCIA_AMPLA.json</td><td>20436383</td><td>1733019781000</td></tr><tr><td>dbfs:/FileStore/tables/brands.csv</td><td>brands.csv</td><td>120</td><td>1733017147000</td></tr><tr><td>dbfs:/FileStore/tables/categories.csv</td><td>categories.csv</td><td>162</td><td>1733017147000</td></tr><tr><td>dbfs:/FileStore/tables/customers.csv</td><td>customers.csv</td><td>127671</td><td>1733017147000</td></tr><tr><td>dbfs:/FileStore/tables/json_file/</td><td>json_file/</td><td>0</td><td>0</td></tr><tr><td>dbfs:/FileStore/tables/json_zip/</td><td>json_zip/</td><td>0</td><td>0</td></tr><tr><td>dbfs:/FileStore/tables/order_items.csv</td><td>order_items.csv</td><td>112937</td><td>1733017148000</td></tr><tr><td>dbfs:/FileStore/tables/orders.csv</td><td>orders.csv</td><td>77286</td><td>1733017148000</td></tr><tr><td>dbfs:/FileStore/tables/products.csv</td><td>products.csv</td><td>17390</td><td>1733017148000</td></tr><tr><td>dbfs:/FileStore/tables/schema.png</td><td>schema.png</td><td>12013</td><td>1733017148000</td></tr><tr><td>dbfs:/FileStore/tables/staffs.csv</td><td>staffs.csv</td><td>726</td><td>1733017148000</td></tr><tr><td>dbfs:/FileStore/tables/stocks.csv</td><td>stocks.csv</td><td>8773</td><td>1733017149000</td></tr><tr><td>dbfs:/FileStore/tables/stores.csv</td><td>stores.csv</td><td>330</td><td>1733017147000</td></tr></tbody></table></div>"
      ]
     },
     "metadata": {
      "application/vnd.databricks.v1+output": {
       "addedWidgets": {},
       "aggData": [],
       "aggError": "",
       "aggOverflow": false,
       "aggSchema": [],
       "aggSeriesLimitReached": false,
       "aggType": "",
       "arguments": {},
       "columnCustomDisplayInfos": {},
       "data": [
        [
         "dbfs:/FileStore/tables/Bikes/",
         "Bikes/",
         0,
         0
        ],
        [
         "dbfs:/FileStore/tables/Clientes.csv",
         "Clientes.csv",
         12356,
         1733015498000
        ],
        [
         "dbfs:/FileStore/tables/DRE.csv",
         "DRE.csv",
         699,
         1733194109000
        ],
        [
         "dbfs:/FileStore/tables/DRE.xlsx",
         "DRE.xlsx",
         631425,
         1733194117000
        ],
        [
         "dbfs:/FileStore/tables/DiferentesSaidas/",
         "DiferentesSaidas/",
         0,
         0
        ],
        [
         "dbfs:/FileStore/tables/V_OCORRENCIA_AMPLA-zip/",
         "V_OCORRENCIA_AMPLA-zip/",
         0,
         0
        ],
        [
         "dbfs:/FileStore/tables/V_OCORRENCIA_AMPLA.csv",
         "V_OCORRENCIA_AMPLA.csv",
         9869805,
         1733019769000
        ],
        [
         "dbfs:/FileStore/tables/V_OCORRENCIA_AMPLA.json",
         "V_OCORRENCIA_AMPLA.json",
         20436383,
         1733019781000
        ],
        [
         "dbfs:/FileStore/tables/brands.csv",
         "brands.csv",
         120,
         1733017147000
        ],
        [
         "dbfs:/FileStore/tables/categories.csv",
         "categories.csv",
         162,
         1733017147000
        ],
        [
         "dbfs:/FileStore/tables/customers.csv",
         "customers.csv",
         127671,
         1733017147000
        ],
        [
         "dbfs:/FileStore/tables/json_file/",
         "json_file/",
         0,
         0
        ],
        [
         "dbfs:/FileStore/tables/json_zip/",
         "json_zip/",
         0,
         0
        ],
        [
         "dbfs:/FileStore/tables/order_items.csv",
         "order_items.csv",
         112937,
         1733017148000
        ],
        [
         "dbfs:/FileStore/tables/orders.csv",
         "orders.csv",
         77286,
         1733017148000
        ],
        [
         "dbfs:/FileStore/tables/products.csv",
         "products.csv",
         17390,
         1733017148000
        ],
        [
         "dbfs:/FileStore/tables/schema.png",
         "schema.png",
         12013,
         1733017148000
        ],
        [
         "dbfs:/FileStore/tables/staffs.csv",
         "staffs.csv",
         726,
         1733017148000
        ],
        [
         "dbfs:/FileStore/tables/stocks.csv",
         "stocks.csv",
         8773,
         1733017149000
        ],
        [
         "dbfs:/FileStore/tables/stores.csv",
         "stores.csv",
         330,
         1733017147000
        ]
       ],
       "datasetInfos": [],
       "dbfsResultPath": null,
       "isJsonSchema": true,
       "metadata": {},
       "overflow": false,
       "plotOptions": {
        "customPlotOptions": {},
        "displayType": "table",
        "pivotAggregation": null,
        "pivotColumns": null,
        "xColumns": null,
        "yColumns": null
       },
       "removedWidgets": [],
       "schema": [
        {
         "metadata": "{}",
         "name": "path",
         "type": "\"string\""
        },
        {
         "metadata": "{}",
         "name": "name",
         "type": "\"string\""
        },
        {
         "metadata": "{}",
         "name": "size",
         "type": "\"long\""
        },
        {
         "metadata": "{}",
         "name": "modificationTime",
         "type": "\"long\""
        }
       ],
       "type": "table"
      }
     },
     "output_type": "display_data"
    }
   ],
   "source": [
    "\n",
    "display(dbutils.fs.ls('/FileStore/tables'))\n",
    "\n",
    "\n"
   ]
  },
  {
   "cell_type": "code",
   "execution_count": 0,
   "metadata": {
    "application/vnd.databricks.v1+cell": {
     "cellMetadata": {
      "byteLimit": 2048000,
      "rowLimit": 10000
     },
     "inputWidgets": {},
     "nuid": "3c401244-8834-464e-8a7b-6533eb87bd8b",
     "showTitle": false,
     "tableResultSettingsMap": {},
     "title": ""
    }
   },
   "outputs": [
    {
     "output_type": "stream",
     "name": "stdout",
     "output_type": "stream",
     "text": [
      "Out[9]: True"
     ]
    }
   ],
   "source": [
    "#criando nova pasta \n",
    "dbutils.fs.mkdirs('/FileStore/tables/dre')\n"
   ]
  },
  {
   "cell_type": "markdown",
   "metadata": {
    "application/vnd.databricks.v1+cell": {
     "cellMetadata": {
      "byteLimit": 2048000,
      "rowLimit": 10000
     },
     "inputWidgets": {},
     "nuid": "49b8ed21-b1b5-4945-ad37-457ade128b0d",
     "showTitle": false,
     "tableResultSettingsMap": {},
     "title": ""
    }
   },
   "source": [
    "##### Visualizando os dados"
   ]
  },
  {
   "cell_type": "code",
   "execution_count": 0,
   "metadata": {
    "application/vnd.databricks.v1+cell": {
     "cellMetadata": {
      "byteLimit": 2048000,
      "implicitDf": true,
      "rowLimit": 10000
     },
     "inputWidgets": {},
     "nuid": "28e7dbc6-dabd-4786-a71a-752de4581c48",
     "showTitle": false,
     "tableResultSettingsMap": {},
     "title": ""
    }
   },
   "outputs": [
    {
     "output_type": "stream",
     "name": "stdout",
     "output_type": "stream",
     "text": [
      "Out[12]: DataFrame[Cod.DRE: int, Descrição: string, Operação: string, Tipo: string]"
     ]
    }
   ],
   "source": [
    "# Ler o arquivo CSV e criar um DataFrame\n",
    "spark.read.csv(\"/FileStore/tables/DRE.csv\", header=True, inferSchema=True)\n"
   ]
  },
  {
   "cell_type": "code",
   "execution_count": 0,
   "metadata": {
    "application/vnd.databricks.v1+cell": {
     "cellMetadata": {
      "byteLimit": 2048000,
      "rowLimit": 10000
     },
     "inputWidgets": {},
     "nuid": "014e51c6-8ed1-4d97-9227-a2cfb5caad70",
     "showTitle": false,
     "tableResultSettingsMap": {},
     "title": ""
    }
   },
   "outputs": [
    {
     "output_type": "display_data",
     "data": {
      "text/html": [
       "<style scoped>\n",
       "  .table-result-container {\n",
       "    max-height: 300px;\n",
       "    overflow: auto;\n",
       "  }\n",
       "  table, th, td {\n",
       "    border: 1px solid black;\n",
       "    border-collapse: collapse;\n",
       "  }\n",
       "  th, td {\n",
       "    padding: 5px;\n",
       "  }\n",
       "  th {\n",
       "    text-align: left;\n",
       "  }\n",
       "</style><div class='table-result-container'><table class='table-result'><thead style='background-color: white'><tr><th>Cod.DRE</th><th>Descrição</th><th>Operação</th><th>Tipo</th></tr></thead><tbody><tr><td>1</td><td>RECEITA BRUTA</td><td>( + )</td><td>A</td></tr><tr><td>2</td><td>Deduções da Receita</td><td>( - )</td><td>A</td></tr><tr><td>3</td><td>RECEITA LÍQUIDA</td><td>null</td><td>ST</td></tr><tr><td>4</td><td>\tSalários e Encargos</td><td>( - )</td><td>A</td></tr><tr><td>5</td><td>\tGastos com Pessoal</td><td>( - )</td><td>A</td></tr><tr><td>6</td><td>\tInsumos Agrícolas</td><td>( - )</td><td>A</td></tr><tr><td>7</td><td>\tCombustíveis e Lubrificantes</td><td>( - )</td><td>A</td></tr><tr><td>8</td><td>\tEnergia Elétrica</td><td>( - )</td><td>A</td></tr><tr><td>9</td><td>\tManutenção</td><td>( - )</td><td>A</td></tr><tr><td>10</td><td>\tServiços de Terceiros</td><td>( - )</td><td>A</td></tr><tr><td>11</td><td>\tSeguros</td><td>( - )</td><td>A</td></tr><tr><td>12</td><td>LUCRO BRUTO</td><td>null</td><td>ST</td></tr><tr><td>13</td><td>Despesas Operacionais</td><td>( - )</td><td>A</td></tr><tr><td>14</td><td>EBITDA</td><td>null</td><td>ST</td></tr><tr><td>15</td><td>Depreciação</td><td>( - )</td><td>A</td></tr><tr><td>16</td><td>Amortização</td><td>( - )</td><td>A</td></tr><tr><td>17</td><td>LUCRO OPERACIONAL</td><td>null</td><td>ST</td></tr><tr><td>18</td><td>Tributos</td><td>( - )</td><td>A</td></tr><tr><td>19</td><td>LUCRO LÍQUIDO</td><td>null</td><td>ST</td></tr></tbody></table></div>"
      ]
     },
     "metadata": {
      "application/vnd.databricks.v1+output": {
       "addedWidgets": {},
       "aggData": [],
       "aggError": "",
       "aggOverflow": false,
       "aggSchema": [],
       "aggSeriesLimitReached": false,
       "aggType": "",
       "arguments": {},
       "columnCustomDisplayInfos": {},
       "data": [
        [
         1,
         "RECEITA BRUTA",
         "( + )",
         "A"
        ],
        [
         2,
         "Deduções da Receita",
         "( - )",
         "A"
        ],
        [
         3,
         "RECEITA LÍQUIDA",
         null,
         "ST"
        ],
        [
         4,
         "\tSalários e Encargos",
         "( - )",
         "A"
        ],
        [
         5,
         "\tGastos com Pessoal",
         "( - )",
         "A"
        ],
        [
         6,
         "\tInsumos Agrícolas",
         "( - )",
         "A"
        ],
        [
         7,
         "\tCombustíveis e Lubrificantes",
         "( - )",
         "A"
        ],
        [
         8,
         "\tEnergia Elétrica",
         "( - )",
         "A"
        ],
        [
         9,
         "\tManutenção",
         "( - )",
         "A"
        ],
        [
         10,
         "\tServiços de Terceiros",
         "( - )",
         "A"
        ],
        [
         11,
         "\tSeguros",
         "( - )",
         "A"
        ],
        [
         12,
         "LUCRO BRUTO",
         null,
         "ST"
        ],
        [
         13,
         "Despesas Operacionais",
         "( - )",
         "A"
        ],
        [
         14,
         "EBITDA",
         null,
         "ST"
        ],
        [
         15,
         "Depreciação",
         "( - )",
         "A"
        ],
        [
         16,
         "Amortização",
         "( - )",
         "A"
        ],
        [
         17,
         "LUCRO OPERACIONAL",
         null,
         "ST"
        ],
        [
         18,
         "Tributos",
         "( - )",
         "A"
        ],
        [
         19,
         "LUCRO LÍQUIDO",
         null,
         "ST"
        ]
       ],
       "datasetInfos": [],
       "dbfsResultPath": null,
       "isJsonSchema": true,
       "metadata": {},
       "overflow": false,
       "plotOptions": {
        "customPlotOptions": {},
        "displayType": "table",
        "pivotAggregation": null,
        "pivotColumns": null,
        "xColumns": null,
        "yColumns": null
       },
       "removedWidgets": [],
       "schema": [
        {
         "metadata": "{}",
         "name": "Cod.DRE",
         "type": "\"integer\""
        },
        {
         "metadata": "{}",
         "name": "Descrição",
         "type": "\"string\""
        },
        {
         "metadata": "{}",
         "name": "Operação",
         "type": "\"string\""
        },
        {
         "metadata": "{}",
         "name": "Tipo",
         "type": "\"string\""
        }
       ],
       "type": "table"
      }
     },
     "output_type": "display_data"
    }
   ],
   "source": [
    "display(spark.read.csv(\"/FileStore/tables/DRE.csv\", header=True, inferSchema=True))"
   ]
  },
  {
   "cell_type": "code",
   "execution_count": 0,
   "metadata": {
    "application/vnd.databricks.v1+cell": {
     "cellMetadata": {
      "byteLimit": 2048000,
      "rowLimit": 10000
     },
     "inputWidgets": {},
     "nuid": "e63e9bdd-6fc8-4c42-975f-8c5cc1feaf1d",
     "showTitle": false,
     "tableResultSettingsMap": {},
     "title": ""
    }
   },
   "outputs": [],
   "source": [
    "#salvando dados em um DF(DataFlame)\n",
    "df = spark.read.csv(\"dbfs:/FileStore/tables/DRE.csv\", header=True, inferSchema=True)"
   ]
  },
  {
   "cell_type": "markdown",
   "metadata": {
    "application/vnd.databricks.v1+cell": {
     "cellMetadata": {
      "byteLimit": 2048000,
      "rowLimit": 10000
     },
     "inputWidgets": {},
     "nuid": "ec4ec3b6-91e9-4ea1-b34b-ed5f5b1ea93b",
     "showTitle": false,
     "tableResultSettingsMap": {},
     "title": ""
    }
   },
   "source": [
    "#####Tipos de visualizações "
   ]
  },
  {
   "cell_type": "code",
   "execution_count": 0,
   "metadata": {
    "application/vnd.databricks.v1+cell": {
     "cellMetadata": {
      "byteLimit": 2048000,
      "rowLimit": 10000
     },
     "inputWidgets": {},
     "nuid": "53b07047-8858-4c9f-9e6d-738e1161adce",
     "showTitle": false,
     "tableResultSettingsMap": {},
     "title": ""
    }
   },
   "outputs": [
    {
     "output_type": "stream",
     "name": "stdout",
     "output_type": "stream",
     "text": [
      "Out[15]: DataFrame[Cod.DRE: int, Descrição: string, Operação: string, Tipo: string]"
     ]
    }
   ],
   "source": [
    "df"
   ]
  },
  {
   "cell_type": "code",
   "execution_count": 0,
   "metadata": {
    "application/vnd.databricks.v1+cell": {
     "cellMetadata": {
      "byteLimit": 2048000,
      "rowLimit": 10000
     },
     "inputWidgets": {},
     "nuid": "f5449520-37de-40c6-95df-528020019f69",
     "showTitle": false,
     "tableResultSettingsMap": {},
     "title": ""
    }
   },
   "outputs": [
    {
     "output_type": "stream",
     "name": "stdout",
     "output_type": "stream",
     "text": [
      "+-------+--------------------+--------+----+\n|Cod.DRE|           Descrição|Operação|Tipo|\n+-------+--------------------+--------+----+\n|      1|       RECEITA BRUTA|   ( + )|   A|\n|      2| Deduções da Receita|   ( - )|   A|\n|      3|     RECEITA LÍQUIDA|    null|  ST|\n|      4|\\tSalários e Enca...|   ( - )|   A|\n|      5|\\tGastos com Pessoal|   ( - )|   A|\n|      6| \\tInsumos Agrícolas|   ( - )|   A|\n|      7|\\tCombustíveis e ...|   ( - )|   A|\n|      8|  \\tEnergia Elétrica|   ( - )|   A|\n|      9|        \\tManutenção|   ( - )|   A|\n|     10|\\tServiços de Ter...|   ( - )|   A|\n|     11|           \\tSeguros|   ( - )|   A|\n|     12|         LUCRO BRUTO|    null|  ST|\n|     13|Despesas Operacio...|   ( - )|   A|\n|     14|              EBITDA|    null|  ST|\n|     15|         Depreciação|   ( - )|   A|\n|     16|         Amortização|   ( - )|   A|\n|     17|   LUCRO OPERACIONAL|    null|  ST|\n|     18|            Tributos|   ( - )|   A|\n|     19|       LUCRO LÍQUIDO|    null|  ST|\n+-------+--------------------+--------+----+\n\n"
     ]
    }
   ],
   "source": [
    "df.show()"
   ]
  },
  {
   "cell_type": "code",
   "execution_count": 0,
   "metadata": {
    "application/vnd.databricks.v1+cell": {
     "cellMetadata": {
      "byteLimit": 2048000,
      "rowLimit": 10000
     },
     "inputWidgets": {},
     "nuid": "b4b8a3d2-ce5d-4aa5-bf91-90ebacfec096",
     "showTitle": false,
     "tableResultSettingsMap": {},
     "title": ""
    }
   },
   "outputs": [
    {
     "output_type": "display_data",
     "data": {
      "text/html": [
       "<style scoped>\n",
       "  .table-result-container {\n",
       "    max-height: 300px;\n",
       "    overflow: auto;\n",
       "  }\n",
       "  table, th, td {\n",
       "    border: 1px solid black;\n",
       "    border-collapse: collapse;\n",
       "  }\n",
       "  th, td {\n",
       "    padding: 5px;\n",
       "  }\n",
       "  th {\n",
       "    text-align: left;\n",
       "  }\n",
       "</style><div class='table-result-container'><table class='table-result'><thead style='background-color: white'><tr><th>Cod.DRE</th><th>Descrição</th><th>Operação</th><th>Tipo</th></tr></thead><tbody><tr><td>1</td><td>RECEITA BRUTA</td><td>( + )</td><td>A</td></tr><tr><td>2</td><td>Deduções da Receita</td><td>( - )</td><td>A</td></tr><tr><td>3</td><td>RECEITA LÍQUIDA</td><td>null</td><td>ST</td></tr><tr><td>4</td><td>\tSalários e Encargos</td><td>( - )</td><td>A</td></tr><tr><td>5</td><td>\tGastos com Pessoal</td><td>( - )</td><td>A</td></tr><tr><td>6</td><td>\tInsumos Agrícolas</td><td>( - )</td><td>A</td></tr><tr><td>7</td><td>\tCombustíveis e Lubrificantes</td><td>( - )</td><td>A</td></tr><tr><td>8</td><td>\tEnergia Elétrica</td><td>( - )</td><td>A</td></tr><tr><td>9</td><td>\tManutenção</td><td>( - )</td><td>A</td></tr><tr><td>10</td><td>\tServiços de Terceiros</td><td>( - )</td><td>A</td></tr><tr><td>11</td><td>\tSeguros</td><td>( - )</td><td>A</td></tr><tr><td>12</td><td>LUCRO BRUTO</td><td>null</td><td>ST</td></tr><tr><td>13</td><td>Despesas Operacionais</td><td>( - )</td><td>A</td></tr><tr><td>14</td><td>EBITDA</td><td>null</td><td>ST</td></tr><tr><td>15</td><td>Depreciação</td><td>( - )</td><td>A</td></tr><tr><td>16</td><td>Amortização</td><td>( - )</td><td>A</td></tr><tr><td>17</td><td>LUCRO OPERACIONAL</td><td>null</td><td>ST</td></tr><tr><td>18</td><td>Tributos</td><td>( - )</td><td>A</td></tr><tr><td>19</td><td>LUCRO LÍQUIDO</td><td>null</td><td>ST</td></tr></tbody></table></div>"
      ]
     },
     "metadata": {
      "application/vnd.databricks.v1+output": {
       "addedWidgets": {},
       "aggData": [],
       "aggError": "",
       "aggOverflow": false,
       "aggSchema": [],
       "aggSeriesLimitReached": false,
       "aggType": "",
       "arguments": {},
       "columnCustomDisplayInfos": {},
       "data": [
        [
         1,
         "RECEITA BRUTA",
         "( + )",
         "A"
        ],
        [
         2,
         "Deduções da Receita",
         "( - )",
         "A"
        ],
        [
         3,
         "RECEITA LÍQUIDA",
         null,
         "ST"
        ],
        [
         4,
         "\tSalários e Encargos",
         "( - )",
         "A"
        ],
        [
         5,
         "\tGastos com Pessoal",
         "( - )",
         "A"
        ],
        [
         6,
         "\tInsumos Agrícolas",
         "( - )",
         "A"
        ],
        [
         7,
         "\tCombustíveis e Lubrificantes",
         "( - )",
         "A"
        ],
        [
         8,
         "\tEnergia Elétrica",
         "( - )",
         "A"
        ],
        [
         9,
         "\tManutenção",
         "( - )",
         "A"
        ],
        [
         10,
         "\tServiços de Terceiros",
         "( - )",
         "A"
        ],
        [
         11,
         "\tSeguros",
         "( - )",
         "A"
        ],
        [
         12,
         "LUCRO BRUTO",
         null,
         "ST"
        ],
        [
         13,
         "Despesas Operacionais",
         "( - )",
         "A"
        ],
        [
         14,
         "EBITDA",
         null,
         "ST"
        ],
        [
         15,
         "Depreciação",
         "( - )",
         "A"
        ],
        [
         16,
         "Amortização",
         "( - )",
         "A"
        ],
        [
         17,
         "LUCRO OPERACIONAL",
         null,
         "ST"
        ],
        [
         18,
         "Tributos",
         "( - )",
         "A"
        ],
        [
         19,
         "LUCRO LÍQUIDO",
         null,
         "ST"
        ]
       ],
       "datasetInfos": [],
       "dbfsResultPath": null,
       "isJsonSchema": true,
       "metadata": {},
       "overflow": false,
       "plotOptions": {
        "customPlotOptions": {},
        "displayType": "table",
        "pivotAggregation": null,
        "pivotColumns": null,
        "xColumns": null,
        "yColumns": null
       },
       "removedWidgets": [],
       "schema": [
        {
         "metadata": "{}",
         "name": "Cod.DRE",
         "type": "\"integer\""
        },
        {
         "metadata": "{}",
         "name": "Descrição",
         "type": "\"string\""
        },
        {
         "metadata": "{}",
         "name": "Operação",
         "type": "\"string\""
        },
        {
         "metadata": "{}",
         "name": "Tipo",
         "type": "\"string\""
        }
       ],
       "type": "table"
      }
     },
     "output_type": "display_data"
    }
   ],
   "source": [
    "display(df)"
   ]
  },
  {
   "cell_type": "code",
   "execution_count": 0,
   "metadata": {
    "application/vnd.databricks.v1+cell": {
     "cellMetadata": {
      "byteLimit": 2048000,
      "rowLimit": 10000
     },
     "inputWidgets": {},
     "nuid": "2159f5ac-3215-433e-bf5b-c6b8658f9cd2",
     "showTitle": false,
     "tableResultSettingsMap": {},
     "title": ""
    }
   },
   "outputs": [
    {
     "output_type": "stream",
     "name": "stdout",
     "output_type": "stream",
     "text": [
      "+-------+--------------------+--------+----+\n|Cod.DRE|           Descrição|Operação|Tipo|\n+-------+--------------------+--------+----+\n|      1|       RECEITA BRUTA|   ( + )|   A|\n|      2| Deduções da Receita|   ( - )|   A|\n|      3|     RECEITA LÍQUIDA|    null|  ST|\n|      4|\\tSalários e Enca...|   ( - )|   A|\n|      5|\\tGastos com Pessoal|   ( - )|   A|\n+-------+--------------------+--------+----+\nonly showing top 5 rows\n\n"
     ]
    }
   ],
   "source": [
    "dfFiltrado = df\n",
    "\n",
    "dfFiltrado.show(5)"
   ]
  }
 ],
 "metadata": {
  "application/vnd.databricks.v1+notebook": {
   "dashboards": [],
   "environmentMetadata": null,
   "language": "python",
   "notebookMetadata": {
    "mostRecentlyExecutedCommandWithImplicitDF": {
     "commandId": -1,
     "dataframes": [
      "_sqldf"
     ]
    },
    "pythonIndentUnit": 4
   },
   "notebookName": "01.Primeiros comandos",
   "widgets": {}
  }
 },
 "nbformat": 4,
 "nbformat_minor": 0
}
